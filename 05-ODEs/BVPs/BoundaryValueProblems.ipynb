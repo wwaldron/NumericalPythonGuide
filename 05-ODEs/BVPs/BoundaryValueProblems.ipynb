{
 "cells": [
  {
   "cell_type": "markdown",
   "metadata": {},
   "source": [
    "# Boundary Value Problems\n",
    "\n",
    "\\begin{equation}\n",
    "    \\nabla^2 y = 0\n",
    "\\end{equation}"
   ]
  },
  {
   "cell_type": "code",
   "execution_count": 4,
   "metadata": {},
   "outputs": [],
   "source": [
    "import numpy as np\n",
    "from scipy.integrate import solve_bvp as bvp"
   ]
  },
  {
   "cell_type": "code",
   "execution_count": 1,
   "metadata": {},
   "outputs": [],
   "source": [
    "def fun(X, Y):\n",
    "    '''The Electrostatic Equation'''\n",
    "    y, dy = Y\n",
    "    \n",
    "    return [\n",
    "        dy,\n",
    "        0\n",
    "    ]"
   ]
  },
  {
   "cell_type": "code",
   "execution_count": 2,
   "metadata": {},
   "outputs": [],
   "source": [
    "def bc(Ya, Yb):\n",
    "    '''Boundary conditions for the equation'''\n",
    "    \n",
    "    ya, dya = Ya\n",
    "    yb, dyb = Yb\n",
    "    \n",
    "    return [\n",
    "        ya,\n",
    "        yb\n",
    "    ]"
   ]
  },
  {
   "cell_type": "code",
   "execution_count": 5,
   "metadata": {},
   "outputs": [],
   "source": [
    "# Define the Mesh\n",
    "x = np.linspace(0, 1, 51)"
   ]
  },
  {
   "cell_type": "code",
   "execution_count": null,
   "metadata": {},
   "outputs": [],
   "source": [
    "# Define the Starting Points\n",
    "Yg = np.zeros()"
   ]
  }
 ],
 "metadata": {
  "kernelspec": {
   "display_name": "Python 3",
   "language": "python",
   "name": "python3"
  },
  "language_info": {
   "codemirror_mode": {
    "name": "ipython",
    "version": 3
   },
   "file_extension": ".py",
   "mimetype": "text/x-python",
   "name": "python",
   "nbconvert_exporter": "python",
   "pygments_lexer": "ipython3",
   "version": "3.7.6"
  }
 },
 "nbformat": 4,
 "nbformat_minor": 4
}
