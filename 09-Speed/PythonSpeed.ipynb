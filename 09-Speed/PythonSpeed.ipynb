{
 "cells": [
  {
   "cell_type": "markdown",
   "id": "cd4586b6-6a92-4d88-9e04-f10f7357ac0f",
   "metadata": {},
   "source": [
    "# Numerical Python Speed Tests\n",
    "\n",
    "As we know, Python can be *very* slow when computing over a large number of elements. This notebook explores a *few* ways we can speed up Python processing. In particular, we seek to speed up numerical processing comparing the following methods:\n",
    "\n",
    "1. Looping over every element in an array.\n",
    "2. Using logical indexing to compute outputs.\n",
    "3. Use the [numpy ufunc extension](https://numpy.org/doc/stable/reference/generated/numpy.frompyfunc.html?highlight=frompyfunc#numpy.frompyfunc) to intellegently loop over the array.\n",
    "4. Using [numba's vectorization](https://numba.readthedocs.io/en/stable/user/vectorize.html) method\n",
    "5. Using [numba's just-in-time (JIT)](https://numba.pydata.org/numba-doc/latest/user/jit.html) compiler\n",
    "\n",
    "## Problem Setup\n",
    "\n",
    "In my doctorate, I utilize a complicated function over which I have to iterate millions of datapoints. In essence, I am trying to quantify the extinction of light at certain wavelengths (see the extinction equations in [this paper](http://articles.adsabs.harvard.edu/pdf/1989ApJ...345..245C)).\n",
    "\n",
    "## Imports"
   ]
  },
  {
   "cell_type": "code",
   "execution_count": null,
   "id": "2f500987-1975-47e4-9a23-7f5eb19eb79a",
   "metadata": {},
   "outputs": [],
   "source": [
    "# Numpy Imports\n",
    "import numpy as np\n",
    "from numpy import frompyfunc as vectorize\n",
    "\n",
    "# Numba Imports\n",
    "from numba import jit, vectorize as nbvec, float64, prange"
   ]
  },
  {
   "cell_type": "markdown",
   "id": "24de8f51-6478-48e9-b85d-201930fd9c30",
   "metadata": {},
   "source": [
    "## Functions\n",
    "\n",
    "Next, let's define the functions."
   ]
  },
  {
   "cell_type": "code",
   "execution_count": null,
   "id": "ed45ad0b-fea8-4e7f-bb8c-07cac0fc174a",
   "metadata": {
    "jupyter": {
     "source_hidden": true
    },
    "tags": []
   },
   "outputs": [],
   "source": [
    "# Loop over elements\n",
    "def ext_loop(wave, ebv=1.0, rvp=3.1):\n",
    "    \n",
    "    # Create the output array\n",
    "    k = np.empty_like(wave)\n",
    "    \n",
    "    # Loop over wave elements\n",
    "    for i, w in enumerate(wave):\n",
    "        \n",
    "        # Get wave number\n",
    "        x = 1/wave[i]\n",
    "        \n",
    "        # Calculate a, b\n",
    "        if x < 1.1:\n",
    "            \n",
    "            a =  0.574 * x**1.61\n",
    "            b = -0.527 * x**1.61\n",
    "            \n",
    "        elif x < 3.3:\n",
    "            \n",
    "            y = x - 1.82\n",
    "            a = 1 + 0.17699*y - 0.50447*y**2 - 0.02427*y**3 + 0.72085*y**4 + \\\n",
    "                0.01979*y**5 - 0.7753*y**6 + 0.32999*y**7\n",
    "            b = 1.41338*y + 2.28305*y**2 + 1.07233*y**3 - 5.38434*y**4 - \\\n",
    "                0.62251*y**5 + 5.3026*y**6 - 2.09002*y**7\n",
    "        \n",
    "        elif x < 8:\n",
    "            \n",
    "            if x > 5.9:\n",
    "                \n",
    "                y  = x - 5.9\n",
    "                fA = -0.0447*y**2 - 0.009779*y**3\n",
    "                fB =  0.2130*y**2 + 0.1207*y**3\n",
    "            \n",
    "            else:\n",
    "                \n",
    "                fA = fB = 0\n",
    "                \n",
    "            \n",
    "            a = fA + 1.752 - 0.316*x - 0.104/(0.341 + (x - 4.67)**2)\n",
    "            b = fB - 3.090 + 1.825*x + 1.206/(0.263 + (x - 4.62)**2)\n",
    "        \n",
    "        else:\n",
    "            \n",
    "            y = x - 8\n",
    "            a = -1.073 - 0.628*y + 0.137*y**2 - 0.070*y**3\n",
    "            b = 13.670 + 4.257*y - 0.420*y**2 + 0.374*y**3\n",
    "        \n",
    "        # Calc k\n",
    "        k[i] = rvp*a + b\n",
    "        \n",
    "    # Return k\n",
    "    return k"
   ]
  },
  {
   "cell_type": "code",
   "execution_count": null,
   "id": "0b708e7f-14fe-42dc-b125-3c51d48747a6",
   "metadata": {
    "jupyter": {
     "source_hidden": true
    },
    "tags": []
   },
   "outputs": [],
   "source": [
    "def ext_ind(wave, ebv=1.0, rvp=3.1):\n",
    "    \n",
    "    def getk(a, b):\n",
    "        return rvp*a + b\n",
    "    \n",
    "    # Setup the Output Array\n",
    "    k = np.empty_like(wave)\n",
    "    \n",
    "    # Get wave number\n",
    "    x = 1/wave\n",
    "    \n",
    "    # Do First Cut\n",
    "    inds = (x < 1.1)\n",
    "    a =  0.574 * x[inds]**1.61\n",
    "    b = -0.527 * x[inds]**1.61\n",
    "    k[inds] = getk(a, b)\n",
    "    \n",
    "    # Do Second Cut\n",
    "    inds = ((1.1 <= x) & (x < 3.3))\n",
    "    y = x[inds] - 1.82\n",
    "    a = 1 + 0.17699*y - 0.50447*y**2 - 0.02427*y**3 + 0.72085*y**4 + \\\n",
    "        0.01979*y**5 - 0.7753*y**6 + 0.32999*y**7\n",
    "    b = 1.41338*y + 2.28305*y**2 + 1.07233*y**3 - 5.38434*y**4 - \\\n",
    "        0.62251*y**5 + 5.3026*y**6 - 2.09002*y**7\n",
    "    k[inds] = getk(a, b)\n",
    "    \n",
    "    # Do Third Cut\n",
    "    inds = ((3.3 <= x) & (x < 5.9))\n",
    "    fA = fB = 0\n",
    "    a = fA + 1.752 - 0.316*x[inds] - 0.104/(0.341 + (x[inds] - 4.67)**2)\n",
    "    b = fB - 3.090 + 1.825*x[inds] + 1.206/(0.263 + (x[inds] - 4.62)**2)\n",
    "    k[inds] = getk(a, b)\n",
    "    \n",
    "    # Do Fourth Cut\n",
    "    inds = ((5.9 <= x) & (x < 8))\n",
    "    y  = x[inds] - 5.9\n",
    "    fA = -0.0447*y**2 - 0.009779*y**3\n",
    "    fB =  0.2130*y**2 + 0.1207*y**3\n",
    "    a = fA + 1.752 - 0.316*x[inds] - 0.104/(0.341 + (x[inds] - 4.67)**2)\n",
    "    b = fB - 3.090 + 1.825*x[inds] + 1.206/(0.263 + (x[inds] - 4.62)**2)\n",
    "    k[inds] = getk(a, b)\n",
    "    \n",
    "    # Do Fifth Cut\n",
    "    inds = (8 <= x)\n",
    "    y = x[inds] - 8\n",
    "    a = -1.073 - 0.628*y + 0.137*y**2 - 0.070*y**3\n",
    "    b = 13.670 + 4.257*y - 0.420*y**2 + 0.374*y**3\n",
    "    k[inds] = getk(a, b)\n",
    "    \n",
    "    # Return k\n",
    "    return k"
   ]
  },
  {
   "cell_type": "code",
   "execution_count": null,
   "id": "d3fb1daa-a35b-4981-b4f4-bcacfbb622f2",
   "metadata": {
    "jupyter": {
     "source_hidden": true
    },
    "tags": []
   },
   "outputs": [],
   "source": [
    "# Written as Scalar for ufunc\n",
    "def ext_sclr(wave, ebv=1.0, rvp=3.1):\n",
    "    \n",
    "    # Get wave number\n",
    "    x = 1/wave\n",
    "\n",
    "    # Calculate a, b\n",
    "    if x < 1.1:\n",
    "\n",
    "        a =  0.574 * x**1.61\n",
    "        b = -0.527 * x**1.61\n",
    "\n",
    "    elif x < 3.3:\n",
    "\n",
    "        y = x - 1.82\n",
    "        a = 1 + 0.17699*y - 0.50447*y**2 - 0.02427*y**3 + 0.72085*y**4 + \\\n",
    "            0.01979*y**5 - 0.7753*y**6 + 0.32999*y**7\n",
    "        b = 1.41338*y + 2.28305*y**2 + 1.07233*y**3 - 5.38434*y**4 - \\\n",
    "            0.62251*y**5 + 5.3026*y**6 - 2.09002*y**7\n",
    "\n",
    "    elif x < 8:\n",
    "\n",
    "        if x > 5.9:\n",
    "\n",
    "            y  = x - 5.9\n",
    "            fA = -0.0447*y**2 - 0.009779*y**3\n",
    "            fB =  0.2130*y**2 + 0.1207*y**3\n",
    "\n",
    "        else:\n",
    "\n",
    "            fA = fB = 0\n",
    "\n",
    "\n",
    "        a = fA + 1.752 - 0.316*x - 0.104/(0.341 + (x - 4.67)**2)\n",
    "        b = fB - 3.090 + 1.825*x + 1.206/(0.263 + (x - 4.62)**2)\n",
    "\n",
    "    else:\n",
    "\n",
    "        y = x - 8\n",
    "        a = -1.073 - 0.628*y + 0.137*y**2 - 0.070*y**3\n",
    "        b = 13.670 + 4.257*y - 0.420*y**2 + 0.374*y**3\n",
    "\n",
    "    # Return k\n",
    "    return rvp*a + b\n",
    "\n",
    "\n",
    "# Create the ufunc\n",
    "def ext_vec(wave, ebv=1.0, rvp=3.1):\n",
    "    return vectorize(ext_sclr, 3, 1)(wave, ebv, rvp)"
   ]
  },
  {
   "cell_type": "code",
   "execution_count": null,
   "id": "245e2d72-43c6-4b06-bc56-7abf545d7bcf",
   "metadata": {
    "jupyter": {
     "source_hidden": true
    },
    "tags": []
   },
   "outputs": [],
   "source": [
    "# Written as Scalar for numba ufunc\n",
    "@nbvec(\n",
    "    [float64(float64, float64, float64)],\n",
    "    nopython=True,\n",
    "    target='parallel'\n",
    ")\n",
    "def ext_nbvec(wave, ebv=1.0, rvp=3.1):\n",
    "    \n",
    "    # Get wave number\n",
    "    x = 1/wave\n",
    "\n",
    "    # Calculate a, b\n",
    "    if x < 1.1:\n",
    "\n",
    "        a =  0.574 * x**1.61\n",
    "        b = -0.527 * x**1.61\n",
    "\n",
    "    elif x < 3.3:\n",
    "\n",
    "        y = x - 1.82\n",
    "        a = 1 + 0.17699*y - 0.50447*y**2 - 0.02427*y**3 + 0.72085*y**4 + \\\n",
    "            0.01979*y**5 - 0.7753*y**6 + 0.32999*y**7\n",
    "        b = 1.41338*y + 2.28305*y**2 + 1.07233*y**3 - 5.38434*y**4 - \\\n",
    "            0.62251*y**5 + 5.3026*y**6 - 2.09002*y**7\n",
    "\n",
    "    elif x < 8:\n",
    "\n",
    "        if x > 5.9:\n",
    "\n",
    "            y  = x - 5.9\n",
    "            fA = -0.0447*y**2 - 0.009779*y**3\n",
    "            fB =  0.2130*y**2 + 0.1207*y**3\n",
    "\n",
    "        else:\n",
    "\n",
    "            fA = fB = 0\n",
    "\n",
    "\n",
    "        a = fA + 1.752 - 0.316*x - 0.104/(0.341 + (x - 4.67)**2)\n",
    "        b = fB - 3.090 + 1.825*x + 1.206/(0.263 + (x - 4.62)**2)\n",
    "\n",
    "    else:\n",
    "\n",
    "        y = x - 8\n",
    "        a = -1.073 - 0.628*y + 0.137*y**2 - 0.070*y**3\n",
    "        b = 13.670 + 4.257*y - 0.420*y**2 + 0.374*y**3\n",
    "\n",
    "    # Return k\n",
    "    return rvp*a + b"
   ]
  },
  {
   "cell_type": "code",
   "execution_count": null,
   "id": "55968222-c85c-49ee-93ea-c3456763da19",
   "metadata": {
    "jupyter": {
     "source_hidden": true
    },
    "tags": []
   },
   "outputs": [],
   "source": [
    "# Create the JIT version\n",
    "@jit(\n",
    "    float64[::1](float64[::1], float64, float64),\n",
    "    nopython=True,\n",
    "    parallel=True\n",
    ")\n",
    "def ext_jit(wave, ebv=1.0, rvp=3.1):\n",
    "    \n",
    "    # Create the output array\n",
    "    k = np.empty_like(wave)\n",
    "    \n",
    "    # Loop over wave elements\n",
    "    for i in prange(len(wave)):\n",
    "        \n",
    "        # Get wave number\n",
    "        x = 1/wave[i]\n",
    "        \n",
    "        # Calculate a, b\n",
    "        if x < 1.1:\n",
    "            \n",
    "            a =  0.574 * x**1.61\n",
    "            b = -0.527 * x**1.61\n",
    "            \n",
    "        elif x < 3.3:\n",
    "            \n",
    "            y = x - 1.82\n",
    "            a = 1 + 0.17699*y - 0.50447*y**2 - 0.02427*y**3 + 0.72085*y**4 + \\\n",
    "                0.01979*y**5 - 0.7753*y**6 + 0.32999*y**7\n",
    "            b = 1.41338*y + 2.28305*y**2 + 1.07233*y**3 - 5.38434*y**4 - \\\n",
    "                0.62251*y**5 + 5.3026*y**6 - 2.09002*y**7\n",
    "        \n",
    "        elif x < 8:\n",
    "            \n",
    "            if x > 5.9:\n",
    "                \n",
    "                y  = x - 5.9\n",
    "                fA = -0.0447*y**2 - 0.009779*y**3\n",
    "                fB =  0.2130*y**2 + 0.1207*y**3\n",
    "            \n",
    "            else:\n",
    "                \n",
    "                fA = fB = 0\n",
    "                \n",
    "            \n",
    "            a = fA + 1.752 - 0.316*x - 0.104/(0.341 + (x - 4.67)**2)\n",
    "            b = fB - 3.090 + 1.825*x + 1.206/(0.263 + (x - 4.62)**2)\n",
    "        \n",
    "        else:\n",
    "            \n",
    "            y = x - 8\n",
    "            a = -1.073 - 0.628*y + 0.137*y**2 - 0.070*y**3\n",
    "            b = 13.670 + 4.257*y - 0.420*y**2 + 0.374*y**3\n",
    "        \n",
    "        # Calc k\n",
    "        k[i] = rvp*a + b\n",
    "        \n",
    "    # Return k\n",
    "    return k"
   ]
  },
  {
   "cell_type": "markdown",
   "id": "d3f7af30-9481-4d69-bc06-eb39172191b4",
   "metadata": {},
   "source": [
    "## Create the Data\n",
    "\n",
    "We will create 10 million random units to test over."
   ]
  },
  {
   "cell_type": "code",
   "execution_count": null,
   "id": "d1e0069a-9c44-473b-a9d6-33f121bfa79f",
   "metadata": {},
   "outputs": [],
   "source": [
    "# Create the RNG\n",
    "rng = np.random.default_rng(0)\n",
    "\n",
    "# Get the Wavelengths\n",
    "waves = rng.uniform(low=1/10, high=1/0.3, size=int(1e7))"
   ]
  },
  {
   "cell_type": "markdown",
   "id": "e02c6430-f8cb-4bd0-8514-4b6f067c60ef",
   "metadata": {},
   "source": [
    "## Test the Implementations\n",
    "\n",
    "### Loop Method"
   ]
  },
  {
   "cell_type": "code",
   "execution_count": null,
   "id": "01baec14-025a-4ebb-a736-8c8dc5109312",
   "metadata": {},
   "outputs": [],
   "source": [
    "%%timeit\n",
    "_ = ext_loop(waves)"
   ]
  },
  {
   "cell_type": "markdown",
   "id": "40e5520c-081d-4de2-88d8-088dda0bf4e9",
   "metadata": {},
   "source": [
    "### Indexing Method"
   ]
  },
  {
   "cell_type": "code",
   "execution_count": null,
   "id": "161daf38-d3de-4e69-be88-c9e3e9f1d4f7",
   "metadata": {},
   "outputs": [],
   "source": [
    "%%timeit\n",
    "_ = ext_ind(waves)"
   ]
  },
  {
   "cell_type": "markdown",
   "id": "accb5c66-54e6-4348-b912-46ae7a7785d5",
   "metadata": {},
   "source": [
    "### UFunc Method"
   ]
  },
  {
   "cell_type": "code",
   "execution_count": null,
   "id": "69b22ae0-d44b-4e1b-9ead-22095ce5eac6",
   "metadata": {},
   "outputs": [],
   "source": [
    "%%timeit\n",
    "_ = ext_vec(waves)"
   ]
  },
  {
   "cell_type": "markdown",
   "id": "48b8771c-6638-4913-806b-5e1c29250bb5",
   "metadata": {},
   "source": [
    "### Numba Vectorization\n",
    "\n",
    "Jit takes time to compile then runs faster"
   ]
  },
  {
   "cell_type": "code",
   "execution_count": null,
   "id": "67a25065-c149-4c2b-b288-862cd11474ac",
   "metadata": {},
   "outputs": [],
   "source": [
    "%%time\n",
    "_ = ext_nbvec(waves, 1., 3.1)"
   ]
  },
  {
   "cell_type": "code",
   "execution_count": null,
   "id": "c6207ad6-aa47-4d29-adda-e48d52b910c3",
   "metadata": {},
   "outputs": [],
   "source": [
    "%%timeit\n",
    "_ = ext_nbvec(waves, 1., 3.1)"
   ]
  },
  {
   "cell_type": "markdown",
   "id": "4ff8e31e-4ae7-4b69-aa30-d15c7d03c4c9",
   "metadata": {},
   "source": [
    "### JIT Method"
   ]
  },
  {
   "cell_type": "code",
   "execution_count": null,
   "id": "b6ceea51-2e1b-42f2-b92c-080b84281499",
   "metadata": {},
   "outputs": [],
   "source": [
    "%%time\n",
    "_ = ext_jit(waves, 1., 3.1)"
   ]
  },
  {
   "cell_type": "code",
   "execution_count": null,
   "id": "25c3a3ff-494d-4c40-8b43-e95aaa38dc14",
   "metadata": {},
   "outputs": [],
   "source": [
    "%%timeit\n",
    "_ = ext_jit(waves, 1., 3.1)"
   ]
  }
 ],
 "metadata": {
  "kernelspec": {
   "display_name": "Python 3",
   "language": "python",
   "name": "python3"
  },
  "language_info": {
   "codemirror_mode": {
    "name": "ipython",
    "version": 3
   },
   "file_extension": ".py",
   "mimetype": "text/x-python",
   "name": "python",
   "nbconvert_exporter": "python",
   "pygments_lexer": "ipython3",
   "version": "3.7.11"
  }
 },
 "nbformat": 4,
 "nbformat_minor": 5
}
