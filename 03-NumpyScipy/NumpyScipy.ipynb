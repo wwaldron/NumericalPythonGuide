{
 "cells": [
  {
   "cell_type": "markdown",
   "metadata": {},
   "source": [
    "# Numpy, Scipy & Matplotlib Introduction\n",
    "\n",
    "Today, we are ready to study [Numpy](https://numpy.org/doc/1.18/), [Scipy](https://docs.scipy.org/doc/scipy/reference/) & [Matplotlib](https://matplotlib.org/contents.html). Each of these packages is critical for numerical development in Python. Numpy (short for \"**num**erical **py**thon\") is primarily the array, matrix and mathematical workhorse of python. Scipy (short for \"**sci**entific **py**thon\") on the other hand tends to contain more scientific tools for numerical processing. Finally, Matplotlib (\"Mathematical Plotting Library\" is the driver for creating figures in Python.\n",
    "\n",
    "We will begin by importing these three packages below.\n",
    "\n",
    "## Imports"
   ]
  },
  {
   "cell_type": "code",
   "execution_count": 1,
   "metadata": {},
   "outputs": [],
   "source": [
    "# Import Built-In, Extra Python Software\n",
    "# None\n",
    "\n",
    "# Import 3rd Party Software\n",
    "import numpy as np\n",
    "import scipy as sp\n",
    "from matplotlib import pyplot as plt"
   ]
  },
  {
   "cell_type": "markdown",
   "metadata": {},
   "source": [
    "Take a second to appreciate what is happening in these three lines.\n",
    "\n",
    "1. We *import* numpy and assign it to the name `np`\n",
    "2. We *import* scipy and assign it to the name `sp`\n",
    "3. *From* the Matplotlib package, we *import* the pyplot sub-package and assign it to the name `plt`\n",
    "\n",
    "Each one of these name assignments is standard within the field. Also, note that we only imported the `pyplot` sub-package from Matplotlib. Matplotlib is a very large project with a lot of support code \"under the hood\" therefore, the only package we need to deal with is `pyplot`. If we wanted to use the full name (which is some developers' preference), we could have run\n",
    "\n",
    "```python\n",
    "import matplotlib.pyplot\n",
    "```\n",
    "\n",
    "but in my opinion that gets cumbersome to write over and over again.\n",
    "\n",
    "## Arrays\n",
    "\n",
    "I suppose the best place to start with Numpy is with its arrays. In general, Numpy arrays function like [MATLAB](https://www.mathworks.com/help/) arrays with a few subtle differences ([which are documented here](https://numpy.org/doc/1.18/user/numpy-for-matlab-users.html)). The biggest difference between Numpy and MATLAB is that Numpy assumes *element wise* operations whereas MATLAB assumes *matrix* operations. For example, in numpy one could multiply the elements of an array by just using the `*` operator\n",
    "\n",
    "```python\n",
    "a = np.random.rand(5)\n",
    "b = np.random.rand(5)\n",
    "c = a * b\n",
    "```\n",
    "\n",
    "but in MATLAB, one must use the `.*` operator to do the same element wise operation.\n",
    "\n",
    "```matlab\n",
    "a = rand(5);\n",
    "b = rand(5);\n",
    "c = a .* b;\n",
    "```\n",
    "\n",
    "Let's make our own arrays below and try a few mathematical operations on them."
   ]
  },
  {
   "cell_type": "code",
   "execution_count": 2,
   "metadata": {},
   "outputs": [
    {
     "name": "stdout",
     "output_type": "stream",
     "text": [
      "Array a: [1 2 3 4 5]\n",
      "Array b: [5 4 3 2 1]\n",
      "c:       5\n"
     ]
    }
   ],
   "source": [
    "# Make Arrays\n",
    "a = np.array([1, 2, 3, 4, 5])  # Direct Assignment\n",
    "b = np.arange(5, 0, -1)        # Functional Assignment --> arange(start, stop, step)\n",
    "c = 5\n",
    "print('Array a:', a)\n",
    "print('Array b:', b)\n",
    "print('c:      ', c)"
   ]
  },
  {
   "cell_type": "code",
   "execution_count": 3,
   "metadata": {},
   "outputs": [
    {
     "name": "stdout",
     "output_type": "stream",
     "text": [
      "a + b  = [6 6 6 6 6]\n",
      "a - b  = [-4 -2  0  2  4]\n",
      "a * b  = [5 8 9 8 5]\n",
      "a / b  = [0.2 0.5 1.  2.  5. ]\n",
      "a // b = [0 0 1 2 5]\n",
      "a % b  = [1 2 0 0 0]\n",
      "a ** b = [ 1 16 27 16  5]\n",
      "c * a  = [ 5 10 15 20 25]\n",
      "a / c  = [0.2 0.4 0.6 0.8 1. ]\n"
     ]
    }
   ],
   "source": [
    "# Mathematical Operations\n",
    "# Add\n",
    "print('a + b  =', a + b)\n",
    "\n",
    "# Subtract\n",
    "print('a - b  =', a - b)\n",
    "\n",
    "# Multiply\n",
    "print('a * b  =', a * b)\n",
    "\n",
    "# True Divide\n",
    "print('a / b  =', a / b)\n",
    "\n",
    "# Int Divide\n",
    "print('a // b =', a // b)\n",
    "\n",
    "# Modulo\n",
    "print('a % b  =', a % b)\n",
    "\n",
    "# Power\n",
    "print('a ** b =', a ** b)\n",
    "\n",
    "# Scalar Mult/Div\n",
    "print('c * a  =', a * c)\n",
    "print('a / c  =', a / c)"
   ]
  },
  {
   "cell_type": "markdown",
   "metadata": {},
   "source": [
    "We can also access elements of an array as we did with built in lists and tuples."
   ]
  },
  {
   "cell_type": "code",
   "execution_count": 4,
   "metadata": {},
   "outputs": [
    {
     "name": "stdout",
     "output_type": "stream",
     "text": [
      "a[:3]   = [1 2 3]\n",
      "a[1:3]  = [2 3]\n",
      "a[::2]  = [1 3 5]\n",
      "a[::-1] = [5 4 3 2 1]\n"
     ]
    }
   ],
   "source": [
    "print('a[:3]   =', a[:3])\n",
    "print('a[1:3]  =', a[1:3])\n",
    "print('a[::2]  =', a[::2])\n",
    "print('a[::-1] =', a[::-1])"
   ]
  },
  {
   "cell_type": "markdown",
   "metadata": {},
   "source": [
    "For two dimensional arrays, dimensional access is denoted with a comma."
   ]
  },
  {
   "cell_type": "code",
   "execution_count": 5,
   "metadata": {},
   "outputs": [
    {
     "name": "stdout",
     "output_type": "stream",
     "text": [
      "d =\n",
      " [[ 0  1  2]\n",
      " [ 3  4  5]\n",
      " [ 6  7  8]\n",
      " [ 9 10 11]\n",
      " [12 13 14]]\n",
      "d[:, 1] = # All rows of 1th column\n",
      " [ 1  4  7 10 13]  # Note this is now a 1D array\n",
      "d[1, :] = # All cols of 1th row\n",
      " [3 4 5]  # Note this is now a 1D array\n"
     ]
    }
   ],
   "source": [
    "# A 2D Array\n",
    "d = np.arange(15).reshape((5, 3))  # A 2D array with 5 rows and 3 columns\n",
    "print('d =\\n', d)\n",
    "print('d[:, 1] = # All rows of 1th column\\n', d[:, 1], ' # Note this is now a 1D array')\n",
    "print('d[1, :] = # All cols of 1th row\\n', d[1, :],    ' # Note this is now a 1D array')"
   ]
  },
  {
   "cell_type": "markdown",
   "metadata": {},
   "source": [
    "One of my favorite things about array programming is access to elements based on a condition. The mathematical elements above threaded over arrays, but note that this applies to logical operations as well."
   ]
  },
  {
   "cell_type": "code",
   "execution_count": 6,
   "metadata": {},
   "outputs": [
    {
     "name": "stdout",
     "output_type": "stream",
     "text": [
      "a >  2 = [False False  True  True  True]\n",
      "a >= 2 = [False  True  True  True  True]\n",
      "a == 2 = [False  True False False False]\n",
      "a[a > 2] = [3 4 5]  # Only the elements greater than 2\n"
     ]
    }
   ],
   "source": [
    "print('a >  2 =', a >  2)\n",
    "print('a >= 2 =', a >= 2)\n",
    "print('a == 2 =', a == 2)\n",
    "print('a[a > 2] =', a[a > 2], ' # Only the elements greater than 2')"
   ]
  },
  {
   "cell_type": "markdown",
   "metadata": {},
   "source": [
    "## Plotting\n",
    "\n",
    "Let's get into function visualization. This will allow us to also introduce some of numpy's functionality."
   ]
  },
  {
   "cell_type": "code",
   "execution_count": 7,
   "metadata": {},
   "outputs": [
    {
     "data": {
      "image/png": "[encoded data removed]",
      "text/plain": [
       "<Figure size 504x360 with 1 Axes>"
      ]
     },
     "metadata": {
      "needs_background": "light"
     },
     "output_type": "display_data"
    }
   ],
   "source": [
    "# Create Variables\n",
    "f = lambda x: 10*x**2 * np.exp(x)  # x is a dummy variable here\n",
    "x = np.linspace(-10, 1, 1001)      # Linearly spaced variable from -4 to 1 with 1001 elements.\n",
    "V = f(x)  # Could have also explicitly run  |  y = 4*x**2 + np.exp(x)\n",
    "F = -(V[:-2] - V[2:])/(x[:-2] - x[2:])\n",
    "\n",
    "# Plot the Variables\n",
    "_ = plt.figure(figsize=(7, 5))\n",
    "_ = plt.axes()\n",
    "_ = plt.plot(x, V)\n",
    "_ = plt.plot(x[1:-1], F)\n",
    "_ = plt.grid(True)\n",
    "_ = plt.title('Complicated Potential', fontsize=16)\n",
    "_ = plt.xlabel('x (m)', fontsize=14)\n",
    "_ = plt.ylabel('Potential Energy (J)', fontsize=14)\n",
    "_ = plt.legend(['Potential', 'Force'], fontsize=14)\n",
    "_ = plt.xlim(-10, 1)\n",
    "_ = plt.ylim(-25, 25)"
   ]
  },
  {
   "cell_type": "markdown",
   "metadata": {},
   "source": [
    "Now, you take a second to plot a function of your choice. You may find the resources below useful.\n",
    "\n",
    "* [Numpy Mathematical Routines](https://numpy.org/doc/1.18/reference/routines.math.html)\n",
    "* [Scipy Routines](https://docs.scipy.org/doc/scipy/reference/index.html#api-reference)"
   ]
  },
  {
   "cell_type": "code",
   "execution_count": null,
   "metadata": {},
   "outputs": [],
   "source": []
  }
 ],
 "metadata": {
  "interpreter": {
   "hash": "bbdf677c7f9024ef233022d0eca196452394f354de7ace8d8feb6cc00a1501e2"
  },
  "kernelspec": {
   "display_name": "Python 3.7.11 64-bit ('base': conda)",
   "name": "python3"
  },
  "language_info": {
   "codemirror_mode": {
    "name": "ipython",
    "version": 3
   },
   "file_extension": ".py",
   "mimetype": "text/x-python",
   "name": "python",
   "nbconvert_exporter": "python",
   "pygments_lexer": "ipython3",
   "version": "3.7.11"
  }
 },
 "nbformat": 4,
 "nbformat_minor": 4
}
