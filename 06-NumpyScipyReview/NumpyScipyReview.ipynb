{
 "cells": [
  {
   "cell_type": "markdown",
   "metadata": {},
   "source": [
    "# Numpy & Scipy Review\n",
    "\n",
    "I thought this would be the perfect opportunity to review some of the skills we've covered in Numpy and Scipy and introduce a few new skills.\n",
    "\n",
    "This notebook will have you write a series of short functions that will perform deisred tasks. You may accomplish this with the Python `def` or `lambda` commands. Each one of your functions should be vector oriented (meaning I can pass in a numpy array and your function should still work). Most of what you'll be doing in this assignment is \"wrapping\" numpy and scipy functions, but this is designed to get you familiar with numerical processing in Python.\n",
    "\n",
    "I'll go ahead and add code below for packages you may need. I'll also define several test data items below to refer to in the prompts.\n",
    "\n",
    "I'll also lay out the function calls for you as well."
   ]
  },
  {
   "cell_type": "code",
   "execution_count": null,
   "metadata": {},
   "outputs": [],
   "source": [
    "# 3rd Part Imports\n",
    "import numpy as np\n",
    "import scipy.special\n",
    "import scipy.linalg\n",
    "from matplotlib import pyplot as plt\n",
    "\n",
    "# Test Data\n",
    "# 1D Data\n",
    "a1d = np.arange(1, 4)\n",
    "b1d = np.arange(4, 1, -1)\n",
    "c1d = np.linspace(1, 2, 3)\n",
    "x1dLarge = np.linspace(0, 5, 1001)\n",
    "y1dLarge = np.linspace(0, 4, 501)\n",
    "\n",
    "# Row Vectors\n",
    "aRow = a1d[np.newaxis, :]\n",
    "bRow = b1d[np.newaxis, :]\n",
    "\n",
    "# Column Vectors\n",
    "aCol = a1d[:, np.newaxis]\n",
    "bCol = b1d[:, np.newaxis]\n",
    "\n",
    "# Matrices\n",
    "rng = np.random.default_rng(0)\n",
    "A = rng.integers(0, 11, (3, 3))\n",
    "B = rng.integers(0, 11, (3, 3))"
   ]
  },
  {
   "cell_type": "markdown",
   "metadata": {},
   "source": [
    "## Example\n",
    "\n",
    "### Element Wise Addition\n",
    "\n",
    "An example prompt could read:\n",
    "\n",
    "> Write a python function called `add` that takes two inputs, `a` and `b`, and adds the values together element-wise.\n",
    "\n",
    "I'll show you two different ways this could be done here."
   ]
  },
  {
   "cell_type": "code",
   "execution_count": null,
   "metadata": {},
   "outputs": [],
   "source": [
    "# Add Function Definition 1\n",
    "def add1(a, b):\n",
    "    return a + b\n",
    "\n",
    "# Add Function Definition 2\n",
    "add2 = lambda a, b: a + b"
   ]
  },
  {
   "cell_type": "code",
   "execution_count": null,
   "metadata": {},
   "outputs": [],
   "source": [
    "# Test the Functions here.\n",
    "print(add1(A, B))\n",
    "print(add2(A, B))"
   ]
  },
  {
   "cell_type": "markdown",
   "metadata": {},
   "source": [
    "### Mesh Example\n",
    "\n",
    "Here is another example of something I could ask similar to the previous example. It has to do with performing an operation over some kind of mesh. That is, consider a problem to be two dimensional, $x \\times y$ for example, where $x$ is along the $\\hat{i}$ dimension and $y$ is along the $\\hat{j}$ direction. This can be solved numerically over a mesh of two 1D vectors `x` and `y`. A prompt may look like the following:\n",
    "\n",
    "> Write a function that accepts two 1D Numpy vectors with size $m$ and $n$ respectively and returns the 2D value of $x \\times y$. Call the function `mult2d`.\n",
    "\n",
    "Here are my example solutions below."
   ]
  },
  {
   "cell_type": "code",
   "execution_count": null,
   "metadata": {},
   "outputs": [],
   "source": [
    "def mult2d(x, y):\n",
    "    \n",
    "    # Get the Gridded/Meshed x and y\n",
    "    xM, yM = np.meshgrid(x, y)\n",
    "    \n",
    "    return xM * yM"
   ]
  },
  {
   "cell_type": "code",
   "execution_count": null,
   "metadata": {},
   "outputs": [],
   "source": [
    "# My Test for the Code\n",
    "z = mult2d(x1dLarge, y1dLarge)\n",
    "_ = plt.contourf(x1dLarge, y1dLarge, z, 20)\n",
    "_ = plt.xlabel('X')\n",
    "_ = plt.ylabel('Y')\n",
    "_ = plt.colorbar()"
   ]
  },
  {
   "cell_type": "markdown",
   "metadata": {},
   "source": [
    "Numpy also has a series of functions called \"outer\" functions that can do this in a threaded basis, but computationally it is more complicated to understand."
   ]
  },
  {
   "cell_type": "code",
   "execution_count": null,
   "metadata": {},
   "outputs": [],
   "source": [
    "def mult2d(x, y):\n",
    "    \n",
    "    return np.multiply.outer(y, x)  # y has to come first since we want it along the rows"
   ]
  },
  {
   "cell_type": "code",
   "execution_count": null,
   "metadata": {},
   "outputs": [],
   "source": [
    "# My Test for the Code\n",
    "z = mult2d(x1dLarge, y1dLarge)\n",
    "_ = plt.contourf(x1dLarge, y1dLarge, z, 20)\n",
    "_ = plt.xlabel('X')\n",
    "_ = plt.ylabel('Y')\n",
    "_ = plt.colorbar()"
   ]
  },
  {
   "cell_type": "markdown",
   "metadata": {},
   "source": [
    "## Assignment\n",
    "\n",
    "Now, it is your turn take an opportunity to work the problems below.\n",
    "\n",
    "### Area of a Trapezoid\n",
    "\n",
    "> Write a function that accepts three values ($b_1$, $b_2$ and $h$) that calculates the area of a trapezoid. Call the function `trap`.\n",
    "\n",
    "The equation of the trapezoid is\n",
    "\n",
    "\\begin{equation}\n",
    "    \\frac{b_1 + b_2}{2} h.\n",
    "\\end{equation}"
   ]
  },
  {
   "cell_type": "code",
   "execution_count": null,
   "metadata": {},
   "outputs": [],
   "source": [
    "# Trapezoid Funcion\n",
    "def trap(b1, b2, h):\n",
    "    pass"
   ]
  },
  {
   "cell_type": "code",
   "execution_count": null,
   "metadata": {},
   "outputs": [],
   "source": [
    "# You may test your function here\n"
   ]
  },
  {
   "cell_type": "markdown",
   "metadata": {},
   "source": [
    "### Arc Length of Circle\n",
    "\n",
    "> Write a function called `arc` that accepts the radius and interior angle (in degrees) of a circle which returns the arc length of the circle.\n",
    "\n",
    "The formula for arc length of the circle is\n",
    "\n",
    "\\begin{equation}\n",
    "    s = r \\theta\n",
    "\\end{equation}\n",
    "\n",
    "where $r$ is the radius and $\\theta$ is the interior angle measured in *radians*. The Numpy [deg2rad](https://docs.scipy.org/doc/numpy/reference/generated/numpy.deg2rad.html) function may be useful."
   ]
  },
  {
   "cell_type": "code",
   "execution_count": null,
   "metadata": {},
   "outputs": [],
   "source": [
    "# Arc Length Function\n",
    "def arc(r, th):\n",
    "    pass"
   ]
  },
  {
   "cell_type": "code",
   "execution_count": null,
   "metadata": {},
   "outputs": [],
   "source": [
    "# You may test your code here\n"
   ]
  },
  {
   "cell_type": "markdown",
   "metadata": {},
   "source": [
    "### Sum Difference\n",
    "\n",
    "> Write a Python function called `sumdiff` to calculate the difference between the squared sum of first n natural numbers and the sum of squared first n natural numbers.\n",
    "\n",
    "The function should implement\n",
    "\n",
    "\\begin{equation}\n",
    "    x = \\left( \\sum_{i=1}^N y_i \\right)^2 - \\sum_{i=1}^N y_i^2\n",
    "\\end{equation}"
   ]
  },
  {
   "cell_type": "code",
   "execution_count": null,
   "metadata": {},
   "outputs": [],
   "source": [
    "def sumdiff(N):\n",
    "    pass"
   ]
  },
  {
   "cell_type": "code",
   "execution_count": null,
   "metadata": {},
   "outputs": [],
   "source": [
    "# You may test your code here\n"
   ]
  },
  {
   "cell_type": "markdown",
   "metadata": {},
   "source": [
    "### Quadratic Roots\n",
    "\n",
    "> Write a function called `quad` that accepts three arrays (`a`, `b` and `c`) and returns the two roots from the coefficients of the equation. If the inputs are of length $N$, the output should be of shape (N, 2).\n",
    "\n",
    "Part of the solution is implemented below."
   ]
  },
  {
   "cell_type": "code",
   "execution_count": null,
   "metadata": {},
   "outputs": [],
   "source": [
    "def quad(a, b, c):\n",
    "    \n",
    "    # Store the plus sol here\n",
    "    solP = []\n",
    "    \n",
    "    # Store the minus sol here\n",
    "    solM = []\n",
    "    \n",
    "    return np.vstack((solP, solM))"
   ]
  },
  {
   "cell_type": "code",
   "execution_count": null,
   "metadata": {},
   "outputs": [],
   "source": [
    "# You may test your code here\n"
   ]
  },
  {
   "cell_type": "markdown",
   "metadata": {},
   "source": [
    "### Cross Product\n",
    "\n",
    "> Write a function called `cross` that computes the cross product between two vectors."
   ]
  },
  {
   "cell_type": "code",
   "execution_count": null,
   "metadata": {},
   "outputs": [],
   "source": [
    "# Cross Product\n",
    "def cross(a, b):\n",
    "    pass"
   ]
  },
  {
   "cell_type": "code",
   "execution_count": null,
   "metadata": {},
   "outputs": [],
   "source": [
    "# You May Test your code here\n"
   ]
  },
  {
   "cell_type": "markdown",
   "metadata": {},
   "source": [
    "### Eigen Values\n",
    "\n",
    "> Write a program to compute the eigen values of a matrix."
   ]
  },
  {
   "cell_type": "code",
   "execution_count": null,
   "metadata": {},
   "outputs": [],
   "source": [
    "# Eigen Value Function\n",
    "def eig(A):\n",
    "    pass"
   ]
  },
  {
   "cell_type": "code",
   "execution_count": null,
   "metadata": {},
   "outputs": [],
   "source": [
    "# You may test your code here.\n"
   ]
  },
  {
   "cell_type": "markdown",
   "metadata": {},
   "source": [
    "## Answer Checking\n",
    "\n",
    "I will be checking your answers using the code below."
   ]
  },
  {
   "cell_type": "code",
   "execution_count": null,
   "metadata": {},
   "outputs": [],
   "source": [
    "print(trap(a1d, b1d, c1d))\n",
    "print(arc(a1d, np.pi*c1d))\n",
    "print(sumdiff(a1d))\n",
    "print(quad(a1d, b1d, -c1d))\n",
    "print(cross(a1d, b1d))\n",
    "print(eig(A, B))"
   ]
  }
 ],
 "metadata": {
  "kernelspec": {
   "display_name": "Python 3",
   "language": "python",
   "name": "python3"
  },
  "language_info": {
   "codemirror_mode": {
    "name": "ipython",
    "version": 3
   },
   "file_extension": ".py",
   "mimetype": "text/x-python",
   "name": "python",
   "nbconvert_exporter": "python",
   "pygments_lexer": "ipython3",
   "version": "3.7.6"
  }
 },
 "nbformat": 4,
 "nbformat_minor": 4
}
