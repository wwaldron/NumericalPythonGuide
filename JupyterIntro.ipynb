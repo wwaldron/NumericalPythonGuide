{
 "cells": [
  {
   "cell_type": "markdown",
   "metadata": {},
   "source": [
    "# Jupyter Notebook Walk Through\n",
    "\n",
    "![Jupyter Logo](https://jupyter.org/assets/main-logo.svg \"Jupyter Logo\")\n",
    "\n",
    "Jupyter Notebooks serve as a great environment to integrate code and discussion. They are built off of the [IPython](https://ipython.org/) programming environment and have two useful cells.\n",
    "\n",
    "1. Markdown (i.e. this cell; for help, see the [cheat sheet](https://github.com/adam-p/markdown-here/wiki/Markdown-Cheatsheet))\n",
    "2. Code (Python, R or Julia)\n",
    "\n",
    "## Precursors - How to Get Jupyter\n",
    "\n",
    "I recommend using the [Anaconda Python](https://www.anaconda.com/download/) package manager which is available for all major operating systems. Once you have downloaded and installed Anaconda Python, you are set and ready to go. However, there are several other packages that are beneficial to install.\n",
    "\n",
    "```bash\n",
    "$ conda install jupyterlab # A newer jupyter environment\n",
    "$ conda install nb_conda_kernels # Allows for switching conda environments from the notebook\n",
    "$ conda install nbconvert # Allows exporting notebooks to other formats (such as HTML)\n",
    "```\n",
    "\n",
    "Or, these commands can be run all in one function call.\n",
    "\n",
    "```bash\n",
    "$ conda install jupyterlab nb_conda_kernels nbconvert\n",
    "```\n",
    "\n",
    "## Navigating a Notebook\n",
    "\n",
    "Jupyter notebooks come with their own commands and keystrokes that are useful.\n",
    "\n",
    "|    Command          |               Description               |    Keystroke    |\n",
    "| :------------------ | :-------------------------------------- | :-------------: |\n",
    "| Enter Cell          | Allows for editing of cell              |     `Enter`     |\n",
    "| Exit Cell           | Exits cell edit mode                    |      `ESC`      |\n",
    "| Run                 | Runs current cell                       | `Ctrl + Enter`  |\n",
    "| Run and Enter       | Runs current cell and moves to next     | `Shift + Enter` |\n",
    "| Run and Create      | Runs current cell and creates new below |  `Alt + Enter`  |\n",
    "| Convert to Python   | Converts current cell to Python         |       `y`       |\n",
    "| Convert to Markdown | Converts current cell to Markdown       |       `m`       |\n",
    "\n",
    "## Writing Python Code\n",
    "\n",
    "A wonderful feature of the notebook environment is the code integration and data visualization they provide. Note that Python cells are \"tab completeable\" since they are run with IPython and Jedi."
   ]
  },
  {
   "cell_type": "code",
   "execution_count": 1,
   "metadata": {},
   "outputs": [],
   "source": [
    "# Begin with IPython \"magic\" commands\n",
    "# The following magic command allows for interactive plotting\n",
    "# %matplotlib notebook\n",
    "# %matplotlib inline  # Default plotting environment\n",
    "\n",
    "\n",
    "# Imports\n",
    "import numpy as np\n",
    "import scipy as sp\n",
    "import pandas as pd\n",
    "import astropy.table\n",
    "import sklearn.datasets\n",
    "from matplotlib import pyplot as plt\n",
    "from IPython.display import display, HTML"
   ]
  },
  {
   "cell_type": "code",
   "execution_count": 2,
   "metadata": {},
   "outputs": [
    {
     "name": "stdout",
     "output_type": "stream",
     "text": [
      "Number of Digits: 1797\n"
     ]
    },
    {
     "data": {
      "text/html": [
       "<table border=\"1\" class=\"dataframe\">\n",
       "  <thead>\n",
       "    <tr style=\"text-align: right;\">\n",
       "      <th></th>\n",
       "      <th>sepal length (cm)</th>\n",
       "      <th>sepal width (cm)</th>\n",
       "      <th>petal length (cm)</th>\n",
       "      <th>petal width (cm)</th>\n",
       "      <th>class</th>\n",
       "    </tr>\n",
       "  </thead>\n",
       "  <tbody>\n",
       "    <tr>\n",
       "      <th>0</th>\n",
       "      <td>5.1</td>\n",
       "      <td>3.5</td>\n",
       "      <td>1.4</td>\n",
       "      <td>0.2</td>\n",
       "      <td>setosa</td>\n",
       "    </tr>\n",
       "    <tr>\n",
       "      <th>1</th>\n",
       "      <td>4.9</td>\n",
       "      <td>3.0</td>\n",
       "      <td>1.4</td>\n",
       "      <td>0.2</td>\n",
       "      <td>setosa</td>\n",
       "    </tr>\n",
       "    <tr>\n",
       "      <th>2</th>\n",
       "      <td>4.7</td>\n",
       "      <td>3.2</td>\n",
       "      <td>1.3</td>\n",
       "      <td>0.2</td>\n",
       "      <td>setosa</td>\n",
       "    </tr>\n",
       "    <tr>\n",
       "      <th>3</th>\n",
       "      <td>4.6</td>\n",
       "      <td>3.1</td>\n",
       "      <td>1.5</td>\n",
       "      <td>0.2</td>\n",
       "      <td>setosa</td>\n",
       "    </tr>\n",
       "    <tr>\n",
       "      <th>...</th>\n",
       "      <td>...</td>\n",
       "      <td>...</td>\n",
       "      <td>...</td>\n",
       "      <td>...</td>\n",
       "      <td>...</td>\n",
       "    </tr>\n",
       "    <tr>\n",
       "      <th>146</th>\n",
       "      <td>6.3</td>\n",
       "      <td>2.5</td>\n",
       "      <td>5.0</td>\n",
       "      <td>1.9</td>\n",
       "      <td>virginica</td>\n",
       "    </tr>\n",
       "    <tr>\n",
       "      <th>147</th>\n",
       "      <td>6.5</td>\n",
       "      <td>3.0</td>\n",
       "      <td>5.2</td>\n",
       "      <td>2.0</td>\n",
       "      <td>virginica</td>\n",
       "    </tr>\n",
       "    <tr>\n",
       "      <th>148</th>\n",
       "      <td>6.2</td>\n",
       "      <td>3.4</td>\n",
       "      <td>5.4</td>\n",
       "      <td>2.3</td>\n",
       "      <td>virginica</td>\n",
       "    </tr>\n",
       "    <tr>\n",
       "      <th>149</th>\n",
       "      <td>5.9</td>\n",
       "      <td>3.0</td>\n",
       "      <td>5.1</td>\n",
       "      <td>1.8</td>\n",
       "      <td>virginica</td>\n",
       "    </tr>\n",
       "  </tbody>\n",
       "</table>"
      ],
      "text/plain": [
       "<IPython.core.display.HTML object>"
      ]
     },
     "metadata": {},
     "output_type": "display_data"
    }
   ],
   "source": [
    "# First, let's import some data\n",
    "digits = sklearn.datasets.load_digits()\n",
    "iris   = sklearn.datasets.load_iris()\n",
    "\n",
    "# Convert iris to DataFrame\n",
    "irisClass, irisNames = iris.target, iris.target_names\n",
    "iris = pd.DataFrame(iris.data, columns=iris.feature_names)\n",
    "iris['class'] = np.choose(irisClass, irisNames)\n",
    "\n",
    "# Note that notebooks feature integrated Printing\n",
    "print('Number of Digits: {:d}'.format(digits.data.shape[0]))\n",
    "\n",
    "# Also, Pandas DataFrames have pretty formatting\n",
    "display(HTML(iris.to_html(max_rows=8)))"
   ]
  },
  {
   "cell_type": "code",
   "execution_count": 3,
   "metadata": {},
   "outputs": [
    {
     "data": {
      "image/png": "[encoded data removed]",
      "text/plain": [
       "<Figure size 648x324 with 2 Axes>"
      ]
     },
     "metadata": {
      "needs_background": "light"
     },
     "output_type": "display_data"
    }
   ],
   "source": [
    "# Data is Available from Cell-to-Cell\n",
    "# Let's make a histogram of the petal lengths in iris\n",
    "fig, ax = plt.subplots(1, 2, figsize=(9, 4.5))\n",
    "edges = np.histogram_bin_edges(iris['petal length (cm)'], 15)\n",
    "_ = ax[0].hist(iris['petal length (cm)'], ec='k')\n",
    "for label in np.unique(iris['class']):\n",
    "    inds = label == iris['class']\n",
    "    _ = ax[1].hist(iris['petal length (cm)'][inds], edges, ec='k', alpha=0.5, label=label)\n",
    "\n",
    "# Titles and Such for All\n",
    "_ = ax[0].set_title('All Petal Lengths')\n",
    "_ = ax[0].set_xlabel('Petal Length (cm)')\n",
    "_ = ax[0].set_ylabel('Count')\n",
    "\n",
    "# Titles and Such for Classes\n",
    "_ = ax[1].set_title('Petal Length by Class')\n",
    "_ = ax[1].set_xlabel('Petal Length (cm)')\n",
    "_ = ax[1].set_ylabel('Count')\n",
    "_ = plt.legend()"
   ]
  },
  {
   "cell_type": "markdown",
   "metadata": {},
   "source": [
    "Here we could add some discussion using a Markdown cell"
   ]
  },
  {
   "cell_type": "code",
   "execution_count": 4,
   "metadata": {},
   "outputs": [
    {
     "data": {
      "image/png": "[encoded data removed]",
      "text/plain": [
       "<Figure size 432x360 with 2 Axes>"
      ]
     },
     "metadata": {
      "needs_background": "light"
     },
     "output_type": "display_data"
    }
   ],
   "source": [
    "# Similarly, we can plot images\n",
    "fig, ax = plt.subplots(1, 1, figsize=(6, 5))\n",
    "_ = plt.imshow(digits.images[0], cmap='bone')\n",
    "_ = plt.title('Image of a {:d}'.format(digits.target[0]))\n",
    "_ = plt.axis('off')\n",
    "_ = plt.colorbar()"
   ]
  },
  {
   "cell_type": "code",
   "execution_count": 5,
   "metadata": {},
   "outputs": [
    {
     "data": {
      "image/png": "[encoded data removed]",
      "text/plain": [
       "<Figure size 360x360 with 1 Axes>"
      ]
     },
     "metadata": {
      "needs_background": "light"
     },
     "output_type": "display_data"
    }
   ],
   "source": [
    "# Scatter Example\n",
    "fig, ax = plt.subplots(1, 1, figsize=(5, 5))\n",
    "for label in np.unique(iris['class']):\n",
    "    inds = label == iris['class']\n",
    "    _ = ax.scatter(iris['petal length (cm)'][inds],\n",
    "                   iris['petal width (cm)'][inds],\n",
    "                   label=label)\n",
    "    \n",
    "# Title and Such\n",
    "_ = ax.set_title('Petal Properties Scatter Plot')\n",
    "_ = ax.set_xlabel('Petal Length (cm)')\n",
    "_ = ax.set_ylabel('Petal Width (cm)')\n",
    "_ = ax.set_axisbelow(True)\n",
    "_ = plt.grid(True)\n",
    "_ = plt.legend()"
   ]
  }
 ],
 "metadata": {
  "kernelspec": {
   "display_name": "Python 3",
   "language": "python",
   "name": "python3"
  },
  "language_info": {
   "codemirror_mode": {
    "name": "ipython",
    "version": 3
   },
   "file_extension": ".py",
   "mimetype": "text/x-python",
   "name": "python",
   "nbconvert_exporter": "python",
   "pygments_lexer": "ipython3",
   "version": "3.7.11"
  }
 },
 "nbformat": 4,
 "nbformat_minor": 4
}
