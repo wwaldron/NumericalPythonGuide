{
 "cells": [
  {
   "cell_type": "markdown",
   "metadata": {},
   "source": [
    "# Introduction to Python Control Structures\n",
    "\n",
    "This notebook is designed to teach you about the [control structures](https://docs.python.org/3/tutorial/controlflow.html) that exist in Python. In general, Python does not really add to nor take away from the standard control structures found in other languages (although there are a few exceptions most notably in syntax).\n",
    "\n",
    "The basic control statements are:\n",
    "\n",
    "* `if` statements\n",
    "* `for` statements\n",
    "* The `range` function (which we covered last week)\n",
    "* `break`\n",
    "* `continue`\n",
    "* `else`\n",
    "* `elif`\n",
    "* `pass`\n",
    "\n",
    "While this may seem like a lot to cover, the main ones to know are the first two. Everything else in the list helps you create branches in the code based on a given condition.\n",
    "\n",
    "## The `if` Statement\n",
    "\n",
    "As in other languages, the `if` statment tests whether a given condition is `True` or not. If the test passes (e.g., the statement/condition is true) the code within the block is executed.\n",
    "\n",
    "Now, before we dive into the code, make note regarding one of Python's syntax features being the tabbing structures. In some languages, a control block requires a set of braces or an end statement. Python, however, defines a block beginnine with a colon and then with tabbed code following (generally being four spaces). Consider the example below.\n",
    "\n",
    "```python\n",
    "if x > 0:  # Control Block begins (note trailing colon)\n",
    "    \n",
    "    # Lines tabbed underneath are within the control block\n",
    "    x -= 1  # Decrement x\n",
    "    x += 1  # Increment x\n",
    "\n",
    "# Lines outside the control block\n",
    "x = -5\n",
    "```\n",
    "\n",
    "### `if` Example\n",
    "\n",
    "Now, let's try this out on some real code below."
   ]
  },
  {
   "cell_type": "code",
   "execution_count": 1,
   "metadata": {},
   "outputs": [
    {
     "name": "stdout",
     "output_type": "stream",
     "text": [
      "x is zero\n",
      "This line runs no matter what x is!\n"
     ]
    }
   ],
   "source": [
    "# Define my Variable\n",
    "x = 0  # My favorite number\n",
    "\n",
    "# Run a test on the number and print a fact about it\n",
    "if x > 0:\n",
    "    print('x is positive')\n",
    "elif x < 0:\n",
    "    print('x is negative')\n",
    "else:\n",
    "    print('x is zero')\n",
    "\n",
    "print('This line runs no matter what x is!')  # Because it is outside (untabbed) the control structure."
   ]
  },
  {
   "cell_type": "markdown",
   "metadata": {},
   "source": [
    "Before you have a go at the `if` statement, let's note a few extra features here.\n",
    "\n",
    "1. I began the control structure as stated with `if`, a condition and a colon\n",
    "2. The next block is known as an `elif` block which is short for \"else if\"\n",
    "  * This allows another condition to be run on `x` to potentially run the code within its block\n",
    "  * Go ahead and try changing `x` to some negative value\n",
    "3. The final block is the `else` block\n",
    "  * This block only runs if the previous conditions fail\n",
    "  * In the case above, the only other possibility is (if `x` is not positive or negative) is that `x` is zero\n",
    "\n",
    "### Your Turn\n",
    "\n",
    "Use the cell below to attempt to write an `if` statement for yourself. Feel free to ask your instructor for assistance."
   ]
  },
  {
   "cell_type": "code",
   "execution_count": null,
   "metadata": {},
   "outputs": [],
   "source": []
  },
  {
   "cell_type": "markdown",
   "metadata": {},
   "source": [
    "## The `for` Statement\n",
    "\n",
    "The `for` statement controls looping within Python. Generally, `for` statements allow looping \"for\" a fixed number of iterations. However, in Python, `for` statements are much more powerful than a general loop, but we'll get to that in a minute. Let's first use them in the classical sense of looping through indexes.\n"
   ]
  },
  {
   "cell_type": "code",
   "execution_count": 2,
   "metadata": {},
   "outputs": [
    {
     "name": "stdout",
     "output_type": "stream",
     "text": [
      "0\n",
      "1\n",
      "2\n",
      "3\n"
     ]
    }
   ],
   "source": [
    "for i in range(4):  # Begin the control structure\n",
    "    print(i)        # Run control structure commands"
   ]
  },
  {
   "cell_type": "markdown",
   "metadata": {},
   "source": [
    "See? That wasn't too bad. Let's take a look where this *could* be useful. We'll start by making a list and then printing the elements of the list."
   ]
  },
  {
   "cell_type": "code",
   "execution_count": 3,
   "metadata": {},
   "outputs": [
    {
     "name": "stdout",
     "output_type": "stream",
     "text": [
      "['a', 12, 'Will']\n",
      "a\n",
      "12\n",
      "Will\n"
     ]
    }
   ],
   "source": [
    "# Define the List\n",
    "myList = ['a', 12, 'Will']\n",
    "print (myList)\n",
    "\n",
    "# Loop through and Individually Print Elements\n",
    "for i in range(3):  # Loop over the three elements\n",
    "    print(myList[i])"
   ]
  },
  {
   "cell_type": "markdown",
   "metadata": {},
   "source": [
    "But, what if we did not know how many elements were in the list *a priori*? Enter the Python function [`len`](https://docs.python.org/3/library/functions.html#len) which simply gets the length of whatever is passed to it."
   ]
  },
  {
   "cell_type": "code",
   "execution_count": 4,
   "metadata": {},
   "outputs": [
    {
     "name": "stdout",
     "output_type": "stream",
     "text": [
      "['a', 12, 'Will']\n",
      "a\n",
      "12\n",
      "Will\n"
     ]
    }
   ],
   "source": [
    "# Define the List\n",
    "myList = ['a', 12, 'Will']\n",
    "print(myList)\n",
    "\n",
    "# Loop through and Individually Print Elements\n",
    "for i in range(len(myList)):  # Loop over all list elements\n",
    "    print(myList[i])"
   ]
  },
  {
   "cell_type": "markdown",
   "metadata": {},
   "source": [
    "However, this is *still* not using Python as intended. Rather, as one of the powerful elements of the Python syntax, Python is able to figure out what to loop over and unpack variables."
   ]
  },
  {
   "cell_type": "code",
   "execution_count": 5,
   "metadata": {},
   "outputs": [
    {
     "name": "stdout",
     "output_type": "stream",
     "text": [
      "['a', 12, 'Will']\n",
      "a\n",
      "12\n",
      "Will\n"
     ]
    }
   ],
   "source": [
    "# Define the List\n",
    "myList = ['a', 12, 'Will']\n",
    "print (myList)\n",
    "\n",
    "# Loop through and Individually Print Elements\n",
    "for elem in myList:  # Let Python do the unpacking\n",
    "    print(elem)"
   ]
  },
  {
   "cell_type": "markdown",
   "metadata": {},
   "source": [
    "You'll also note that this last method is faster than the previous methods."
   ]
  },
  {
   "cell_type": "code",
   "execution_count": 6,
   "metadata": {},
   "outputs": [],
   "source": [
    "myList = list(range(10**6))  # A list of 1 million elements"
   ]
  },
  {
   "cell_type": "code",
   "execution_count": 7,
   "metadata": {},
   "outputs": [
    {
     "name": "stdout",
     "output_type": "stream",
     "text": [
      "54.7 ms ± 3.97 ms per loop (mean ± std. dev. of 7 runs, 10 loops each)\n"
     ]
    }
   ],
   "source": [
    "%%timeit\n",
    "a = 0\n",
    "for i in range(len(myList)):\n",
    "    a += 1"
   ]
  },
  {
   "cell_type": "code",
   "execution_count": 8,
   "metadata": {},
   "outputs": [
    {
     "name": "stdout",
     "output_type": "stream",
     "text": [
      "41.6 ms ± 1.56 ms per loop (mean ± std. dev. of 7 runs, 10 loops each)\n"
     ]
    }
   ],
   "source": [
    "%%timeit\n",
    "a = 0\n",
    "for i in myList:\n",
    "    a += 1"
   ]
  },
  {
   "cell_type": "markdown",
   "metadata": {},
   "source": [
    "This also works for dictionaries."
   ]
  },
  {
   "cell_type": "code",
   "execution_count": 9,
   "metadata": {},
   "outputs": [
    {
     "name": "stdout",
     "output_type": "stream",
     "text": [
      "dict_keys(['a', 'b', 'c'])\n",
      "dict_values([1, 2, 3])\n",
      "a 1\n",
      "b 2\n",
      "c 3\n"
     ]
    }
   ],
   "source": [
    "# Define Dictionary\n",
    "d = {'a': 1, 'b': 2, 'c': 3}\n",
    "print(d.keys())\n",
    "print(d.values())\n",
    "\n",
    "# Loop Through the keys\n",
    "for key in d:\n",
    "    print(key, d[key])"
   ]
  },
  {
   "cell_type": "markdown",
   "metadata": {},
   "source": [
    "### Your Turn\n",
    "\n",
    "Take a moment to write a `for` statement yourself in the cell below. Your instructor can assist you if necessary."
   ]
  },
  {
   "cell_type": "code",
   "execution_count": null,
   "metadata": {},
   "outputs": [],
   "source": []
  },
  {
   "cell_type": "markdown",
   "metadata": {},
   "source": [
    "### A Note on Comprehensions\n",
    "\n",
    "`for` loops and `if` statements also come into play with a Python specific tool known as a comprension. Sometimes, it is convenient to control how a list, tuple or dict gets created. Consider the example below."
   ]
  },
  {
   "cell_type": "code",
   "execution_count": 10,
   "metadata": {},
   "outputs": [
    {
     "name": "stdout",
     "output_type": "stream",
     "text": [
      "[0, 2, 4, 6, 8, 10, 12, 14, 16, 18]\n",
      "[1, 3, 5, 7, 9, 11, 13, 15, 17, 19]\n"
     ]
    }
   ],
   "source": [
    "# Lets make an \"even\" number list\n",
    "evens = [2*i for i in range(10)]\n",
    "print(evens)\n",
    "\n",
    "# Now try an \"odds\" list\n",
    "odds  = [2*i + 1 for i in range(10)]\n",
    "print(odds)"
   ]
  },
  {
   "cell_type": "markdown",
   "metadata": {},
   "source": [
    "Python also allows for combining this type of comprehension with an `if` statement."
   ]
  },
  {
   "cell_type": "code",
   "execution_count": 11,
   "metadata": {},
   "outputs": [
    {
     "name": "stdout",
     "output_type": "stream",
     "text": [
      "[2, 4, 6, 8, 12, 14, 16, 18, 22, 24, 26, 28, 32, 34, 36, 38, 42, 44, 46, 48, 52, 54, 56, 58, 62, 64, 66, 68, 72, 74, 76, 78, 82, 84, 86, 88, 92, 94, 96, 98]\n"
     ]
    }
   ],
   "source": [
    "# Make an evens list, but leave out multiples of 10\n",
    "newEvens = [2*i for i in range(50) if 2*i % 10 != 0]\n",
    "print(newEvens)"
   ]
  },
  {
   "cell_type": "markdown",
   "metadata": {},
   "source": [
    "List comprehensions can be extremely useful in creating lists quickly. However, there is some debate over their utility in Python. While list comprehensions tend to be extremely clever when you get them figured out, they are also very difficult to read, interpret and understand so use them sparingly.\n",
    "\n",
    "### Your Turn\n",
    "\n",
    "Now give list comprehensions a shot for yourself below."
   ]
  },
  {
   "cell_type": "code",
   "execution_count": null,
   "metadata": {},
   "outputs": [],
   "source": []
  },
  {
   "cell_type": "markdown",
   "metadata": {},
   "source": [
    "### `zip` and `enumerate`\n",
    "\n",
    "Python has two built-in functions that provide convenient looping capabilities. The first, `zip`, allows us to loop over multiple variables at the same time. The second, `enumerate`, counts the elements as we go."
   ]
  },
  {
   "cell_type": "code",
   "execution_count": 12,
   "metadata": {},
   "outputs": [
    {
     "name": "stdout",
     "output_type": "stream",
     "text": [
      "Will Waldron a\n",
      "Ryan Fisher 12\n",
      "Jeremy Young Will\n",
      "0 Will\n",
      "1 Ryan\n",
      "2 Jeremy\n"
     ]
    }
   ],
   "source": [
    "# Define Lists\n",
    "firstNames = ['John', 'Jane', 'Agent']\n",
    "lastNames  = ['Doe', 'Doe', 'Carter']\n",
    "myList     = ['a', 12, 'Will']\n",
    "\n",
    "for fN, lN, mL in zip(firstNames, lastNames, myList):\n",
    "    print(fN, lN, mL)\n",
    "    \n",
    "# Loop and Count\n",
    "for i, fN in enumerate(firstNames):\n",
    "    print(i, fN)"
   ]
  },
  {
   "cell_type": "markdown",
   "metadata": {},
   "source": [
    "### Compoud `for` Statements\n",
    "\n",
    "`for` statements also motivate an introduction to the `break` and `continue` statement. In short, `break` stops a loop execution in its tracks whereas a `continue` statement just skips whatever remains of the current iteration."
   ]
  },
  {
   "cell_type": "code",
   "execution_count": 13,
   "metadata": {},
   "outputs": [
    {
     "name": "stdout",
     "output_type": "stream",
     "text": [
      "0 a\n",
      "0 b\n",
      "1 a\n",
      "1 b\n",
      "2 a\n",
      "3 a\n",
      "3 b\n",
      "4 a\n",
      "4 b\n",
      "Outside\n"
     ]
    }
   ],
   "source": [
    "for i in range(10):\n",
    "    print(i, 'a')\n",
    "    if i == 2:\n",
    "        continue\n",
    "    print(i, 'b')\n",
    "    if i == 4:\n",
    "        break\n",
    "\n",
    "print('Outside')"
   ]
  },
  {
   "cell_type": "markdown",
   "metadata": {},
   "source": [
    "### Your Turn\n",
    "\n",
    "Now try a loop with the `break` command in the first cell and a `continue` command in the second cell."
   ]
  },
  {
   "cell_type": "code",
   "execution_count": 14,
   "metadata": {},
   "outputs": [],
   "source": [
    "# Break Structure Here"
   ]
  },
  {
   "cell_type": "code",
   "execution_count": 15,
   "metadata": {},
   "outputs": [],
   "source": [
    "# Continue Structure Here"
   ]
  },
  {
   "cell_type": "markdown",
   "metadata": {},
   "source": [
    "## The `pass` Statement in Passing\n",
    "\n",
    "If you end up writing a lot of Python code, you may finding yourself not able to accomplish everything you want in one sitting. Therefore, the `pass` statement exists to add place holder code."
   ]
  },
  {
   "cell_type": "code",
   "execution_count": 16,
   "metadata": {},
   "outputs": [],
   "source": [
    "# Define Value\n",
    "x = 10\n",
    "\n",
    "# Test Value\n",
    "if x > 0:\n",
    "    pass   # Will write this code later"
   ]
  },
  {
   "cell_type": "markdown",
   "metadata": {},
   "source": [
    "Again, Python accepts that this block is undefined at the moment and nothing needs to be executed here.\n",
    "\n",
    "## Writing Functions\n",
    "\n",
    "Often times, in coding, one tends to write the same line(s) of code over and over again. Fortunately, this is something computers excel at handling for us. To show a simple example of this, we'll pretend there is no exponential function in Python and we'll define one ourselves."
   ]
  },
  {
   "cell_type": "code",
   "execution_count": 17,
   "metadata": {},
   "outputs": [],
   "source": [
    "def exp(x):               # Function Control Call --> def name(args):\n",
    "    y = 2.71828182846**x  # Can be any number of lines\n",
    "    return y              # Return the calculated value to the user"
   ]
  },
  {
   "cell_type": "code",
   "execution_count": 18,
   "metadata": {},
   "outputs": [
    {
     "name": "stdout",
     "output_type": "stream",
     "text": [
      "2.71828182846\n",
      "7.38905609893584\n"
     ]
    }
   ],
   "source": [
    "# Now use the function over and over again\n",
    "print(exp(1))\n",
    "print(exp(2))"
   ]
  },
  {
   "cell_type": "markdown",
   "metadata": {},
   "source": [
    "The Function Above could have also been written"
   ]
  },
  {
   "cell_type": "code",
   "execution_count": 19,
   "metadata": {},
   "outputs": [],
   "source": [
    "def exp(x):                  # Function Control Call --> def name(args):\n",
    "    return 2.71828182846**x  # Return the calculated value on this line"
   ]
  },
  {
   "cell_type": "code",
   "execution_count": 20,
   "metadata": {},
   "outputs": [
    {
     "name": "stdout",
     "output_type": "stream",
     "text": [
      "2.71828182846\n",
      "7.38905609893584\n"
     ]
    }
   ],
   "source": [
    "# Now use the function over and over again\n",
    "print(exp(1))\n",
    "print(exp(2))"
   ]
  },
  {
   "cell_type": "markdown",
   "metadata": {},
   "source": [
    "Python also allows for the definition of an *inline* function. That is, if the entirity of the function can exist on one line, Python gives a structure to do so."
   ]
  },
  {
   "cell_type": "code",
   "execution_count": 21,
   "metadata": {},
   "outputs": [],
   "source": [
    "exp = lambda x: 2.71828182846**x"
   ]
  },
  {
   "cell_type": "code",
   "execution_count": 22,
   "metadata": {},
   "outputs": [
    {
     "name": "stdout",
     "output_type": "stream",
     "text": [
      "2.71828182846\n",
      "7.38905609893584\n"
     ]
    }
   ],
   "source": [
    "# Now use the function over and over again\n",
    "print(exp(1))\n",
    "print(exp(2))"
   ]
  },
  {
   "cell_type": "markdown",
   "metadata": {},
   "source": [
    "## Your Assignment\n",
    "\n",
    "* Write a Function that accepts two numbers and performs some sort of mathematics on the two numbers\n",
    "* Write a function that accepts an integer and tests whether it is even or odd and prints so\n",
    "* Write a function that accepts two lists of numbers and returns the product of each pair"
   ]
  },
  {
   "cell_type": "code",
   "execution_count": 23,
   "metadata": {},
   "outputs": [],
   "source": [
    "# Write the First Function Here"
   ]
  },
  {
   "cell_type": "code",
   "execution_count": 24,
   "metadata": {},
   "outputs": [],
   "source": [
    "# Write the Second Function Here"
   ]
  },
  {
   "cell_type": "code",
   "execution_count": 25,
   "metadata": {},
   "outputs": [],
   "source": [
    "# Write the Third Function Here"
   ]
  },
  {
   "cell_type": "markdown",
   "metadata": {},
   "source": [
    "## Final Word\n",
    "\n",
    "![PythonXKCD](https://imgs.xkcd.com/comics/python.png)"
   ]
  }
 ],
 "metadata": {
  "kernelspec": {
   "display_name": "Python 3",
   "language": "python",
   "name": "python3"
  },
  "language_info": {
   "codemirror_mode": {
    "name": "ipython",
    "version": 3
   },
   "file_extension": ".py",
   "mimetype": "text/x-python",
   "name": "python",
   "nbconvert_exporter": "python",
   "pygments_lexer": "ipython3",
   "version": "3.7.6"
  }
 },
 "nbformat": 4,
 "nbformat_minor": 4
}
